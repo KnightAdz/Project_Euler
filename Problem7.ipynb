{
 "cells": [
  {
   "cell_type": "markdown",
   "metadata": {},
   "source": [
    "By listing the first six prime numbers: 2, 3, 5, 7, 11, and 13, we can see that the 6th prime is 13.\n",
    "\n",
    "What is the 10 001st prime number?"
   ]
  },
  {
   "cell_type": "code",
   "execution_count": 1,
   "metadata": {
    "collapsed": true
   },
   "outputs": [],
   "source": [
    "import numpy as np"
   ]
  },
  {
   "cell_type": "code",
   "execution_count": 2,
   "metadata": {},
   "outputs": [],
   "source": [
    "def is_prime(n):\n",
    "    # Given a number n, return True if it is a prime number\n",
    "    for i in range(2,int(np.sqrt(n))+1):\n",
    "        if n%i==0:\n",
    "            return False\n",
    "    return True"
   ]
  },
  {
   "cell_type": "code",
   "execution_count": 31,
   "metadata": {},
   "outputs": [
    {
     "data": {
      "text/plain": [
       "True"
      ]
     },
     "execution_count": 31,
     "metadata": {},
     "output_type": "execute_result"
    }
   ],
   "source": [
    "is_prime(5)"
   ]
  },
  {
   "cell_type": "code",
   "execution_count": 10,
   "metadata": {},
   "outputs": [
    {
     "name": "stdout",
     "output_type": "stream",
     "text": [
      "1\t2\n",
      "2\t3\n",
      "3\t5\n",
      "4\t7\n",
      "5\t11\n",
      "6\t13\n",
      "7\t17\n",
      "8\t19\n",
      "9\t23\n",
      "10\t29\n",
      "11\t31\n",
      "12\t37\n",
      "13\t41\n",
      "14\t43\n",
      "15\t47\n",
      "16\t53\n",
      "17\t59\n",
      "18\t61\n",
      "19\t67\n",
      "20\t71\n",
      "21\t73\n"
     ]
    }
   ],
   "source": [
    "i=0\n",
    "for n in range(2,75):\n",
    "    if is_prime(n):\n",
    "        i+=1\n",
    "        print(\"{}\\t{}\".format(i,n))"
   ]
  },
  {
   "cell_type": "code",
   "execution_count": 26,
   "metadata": {},
   "outputs": [
    {
     "name": "stdout",
     "output_type": "stream",
     "text": [
      "78 µs ± 821 ns per loop (mean ± std. dev. of 7 runs, 10000 loops each)\n"
     ]
    }
   ],
   "source": [
    "%%timeit\n",
    "i=1\n",
    "n=1\n",
    "while i<20:\n",
    "    n+=2\n",
    "    if is_prime(n)==True:\n",
    "        i+=1"
   ]
  },
  {
   "cell_type": "code",
   "execution_count": 27,
   "metadata": {},
   "outputs": [
    {
     "name": "stdout",
     "output_type": "stream",
     "text": [
      "20 73\n"
     ]
    }
   ],
   "source": [
    "print(i,n)"
   ]
  },
  {
   "cell_type": "code",
   "execution_count": 19,
   "metadata": {},
   "outputs": [
    {
     "data": {
      "text/plain": [
       "False"
      ]
     },
     "execution_count": 19,
     "metadata": {},
     "output_type": "execute_result"
    }
   ],
   "source": [
    "is_prime(74)"
   ]
  },
  {
   "cell_type": "code",
   "execution_count": 30,
   "metadata": {},
   "outputs": [
    {
     "name": "stdout",
     "output_type": "stream",
     "text": [
      "2 3\n",
      "3 7\n",
      "4 11\n",
      "5 13\n",
      "6 17\n",
      "7 19\n",
      "8 23\n",
      "9 29\n",
      "10 31\n",
      "11 37\n",
      "12 41\n",
      "13 43\n",
      "14 47\n",
      "15 53\n",
      "16 59\n",
      "17 61\n",
      "18 67\n",
      "19 71\n",
      "20 73\n"
     ]
    }
   ],
   "source": [
    "i=1\n",
    "n=1\n",
    "while i<20:\n",
    "    n+=2\n",
    "    if n%5==0:\n",
    "        n+=2\n",
    "    if is_prime(n)==True:\n",
    "        i+=1\n",
    "        print(i,n)"
   ]
  },
  {
   "cell_type": "code",
   "execution_count": 23,
   "metadata": {},
   "outputs": [
    {
     "name": "stdout",
     "output_type": "stream",
     "text": [
      "21 74\n"
     ]
    }
   ],
   "source": [
    "print(i,n)"
   ]
  },
  {
   "cell_type": "code",
   "execution_count": 32,
   "metadata": {},
   "outputs": [
    {
     "name": "stdout",
     "output_type": "stream",
     "text": [
      "10001 104743\n"
     ]
    }
   ],
   "source": [
    "i=3\n",
    "n=5\n",
    "while i<10001:\n",
    "    n+=2\n",
    "    if n%5==0:\n",
    "        n+=2\n",
    "    if is_prime(n)==True:\n",
    "        i+=1\n",
    "        \n",
    "print(i,n)"
   ]
  },
  {
   "cell_type": "code",
   "execution_count": null,
   "metadata": {},
   "outputs": [],
   "source": []
  },
  {
   "cell_type": "code",
   "execution_count": null,
   "metadata": {
    "collapsed": true
   },
   "outputs": [],
   "source": []
  }
 ],
 "metadata": {
  "kernelspec": {
   "display_name": "Python 3",
   "language": "python",
   "name": "python3"
  },
  "language_info": {
   "codemirror_mode": {
    "name": "ipython",
    "version": 3
   },
   "file_extension": ".py",
   "mimetype": "text/x-python",
   "name": "python",
   "nbconvert_exporter": "python",
   "pygments_lexer": "ipython3",
   "version": "3.6.1"
  }
 },
 "nbformat": 4,
 "nbformat_minor": 2
}

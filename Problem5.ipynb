{
 "cells": [
  {
   "cell_type": "markdown",
   "metadata": {},
   "source": [
    "2520 is the smallest number that can be divided by each of the numbers from 1 to 10 without any remainder.\n",
    "\n",
    "What is the smallest positive number that is evenly divisible by all of the numbers from 1 to 20?"
   ]
  },
  {
   "cell_type": "code",
   "execution_count": 1,
   "metadata": {
    "collapsed": true
   },
   "outputs": [],
   "source": [
    "import numpy as np"
   ]
  },
  {
   "cell_type": "markdown",
   "metadata": {
    "collapsed": true
   },
   "source": [
    "We can limit the calculations we need to do by only testing the unique factors e.g. a number divisible by 16 will also be divisible by 2,4,8"
   ]
  },
  {
   "cell_type": "code",
   "execution_count": 8,
   "metadata": {},
   "outputs": [],
   "source": [
    "def unique_factors(n):\n",
    "    # return unique factors for a given number\n",
    "    unique_factors = []\n",
    "    for x in range(n,1,-1):\n",
    "        if len(unique_factors)==0:\n",
    "            unique_factors.append(x)\n",
    "        else:\n",
    "            # if not divisible by another factor, add\n",
    "            count = 0\n",
    "            for y in unique_factors:\n",
    "                \n",
    "                if y%x==0:\n",
    "                    count+=1\n",
    "            if count == 0:\n",
    "                unique_factors.append(x)\n",
    "    return unique_factors"
   ]
  },
  {
   "cell_type": "code",
   "execution_count": 21,
   "metadata": {
    "collapsed": true
   },
   "outputs": [],
   "source": [
    "def div_by_all(n_large, unique_factors):\n",
    "    for x in unique_factors:\n",
    "        if n_large%x != 0:\n",
    "            return False\n",
    "    return True"
   ]
  },
  {
   "cell_type": "code",
   "execution_count": 61,
   "metadata": {
    "collapsed": true
   },
   "outputs": [],
   "source": [
    "def find_smallest_evenly_divisble(n):\n",
    "    uf = unique_factors(n)\n",
    "    n_large = uf[-1]\n",
    "    while div_by_all(n_large, uf) == False:\n",
    "        n_large += uf[-1]\n",
    "    return n, uf, n_large"
   ]
  },
  {
   "cell_type": "code",
   "execution_count": 64,
   "metadata": {},
   "outputs": [
    {
     "name": "stdout",
     "output_type": "stream",
     "text": [
      "(2, [2], 2)\n",
      "(3, [3, 2], 6)\n",
      "(4, [4, 3], 12)\n",
      "(5, [5, 4, 3], 60)\n",
      "(6, [6, 5, 4], 60)\n",
      "(7, [7, 6, 5, 4], 420)\n",
      "(8, [8, 7, 6, 5], 840)\n",
      "(9, [9, 8, 7, 6, 5], 2520)\n",
      "(10, [10, 9, 8, 7, 6], 2520)\n",
      "(11, [11, 10, 9, 8, 7, 6], 27720)\n",
      "(12, [12, 11, 10, 9, 8, 7], 27720)\n",
      "(13, [13, 12, 11, 10, 9, 8, 7], 360360)\n",
      "(14, [14, 13, 12, 11, 10, 9, 8], 360360)\n"
     ]
    }
   ],
   "source": [
    "for n in range(2,15):\n",
    "    print(find_smallest_evenly_divisble(n))"
   ]
  },
  {
   "cell_type": "code",
   "execution_count": 65,
   "metadata": {},
   "outputs": [
    {
     "data": {
      "text/plain": [
       "(20, [20, 19, 18, 17, 16, 15, 14, 13, 12, 11], 232792560)"
      ]
     },
     "execution_count": 65,
     "metadata": {},
     "output_type": "execute_result"
    }
   ],
   "source": [
    "find_smallest_evenly_divisble(20)"
   ]
  },
  {
   "cell_type": "code",
   "execution_count": null,
   "metadata": {
    "collapsed": true
   },
   "outputs": [],
   "source": []
  }
 ],
 "metadata": {
  "kernelspec": {
   "display_name": "Python 3",
   "language": "python",
   "name": "python3"
  },
  "language_info": {
   "codemirror_mode": {
    "name": "ipython",
    "version": 3
   },
   "file_extension": ".py",
   "mimetype": "text/x-python",
   "name": "python",
   "nbconvert_exporter": "python",
   "pygments_lexer": "ipython3",
   "version": "3.6.1"
  }
 },
 "nbformat": 4,
 "nbformat_minor": 2
}

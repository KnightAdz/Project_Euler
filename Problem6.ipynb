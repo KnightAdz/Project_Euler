{
 "cells": [
  {
   "cell_type": "markdown",
   "metadata": {},
   "source": [
    "The sum of the squares of the first ten natural numbers is,\n",
    "\n",
    "1<sup>2</sup> + 2<sup>2</sup> + ... + 10<sup>2</sup> = 385\n",
    "\n",
    "\n",
    "The square of the sum of the first ten natural numbers is,\n",
    "\n",
    "(1 + 2 + ... + 10)<sup>2</sup> = 55<sup>2</sup> = 3025\n",
    "\n",
    "\n",
    "Hence the difference between the sum of the squares of the first ten natural numbers and the square of the sum is 3025 − 385 = 2640.\n",
    "\n",
    "Find the difference between the sum of the squares of the first one hundred natural numbers and the square of the sum."
   ]
  },
  {
   "cell_type": "code",
   "execution_count": 14,
   "metadata": {
    "collapsed": true
   },
   "outputs": [],
   "source": [
    "import numpy as np\n",
    "import matplotlib.pyplot as plt\n",
    "%matplotlib inline"
   ]
  },
  {
   "cell_type": "code",
   "execution_count": 6,
   "metadata": {
    "collapsed": true
   },
   "outputs": [],
   "source": [
    "def sum_of_squares(n):\n",
    "    s = 0\n",
    "    for i in range(1,n+1):\n",
    "        s += i**2\n",
    "    return s"
   ]
  },
  {
   "cell_type": "code",
   "execution_count": 7,
   "metadata": {
    "collapsed": true
   },
   "outputs": [],
   "source": [
    "def square_of_sum(n):\n",
    "    s = np.sum(range(n+1))\n",
    "    return s**2"
   ]
  },
  {
   "cell_type": "code",
   "execution_count": 8,
   "metadata": {},
   "outputs": [
    {
     "data": {
      "text/plain": [
       "385"
      ]
     },
     "execution_count": 8,
     "metadata": {},
     "output_type": "execute_result"
    }
   ],
   "source": [
    "sum_of_squares(10)"
   ]
  },
  {
   "cell_type": "code",
   "execution_count": 9,
   "metadata": {},
   "outputs": [
    {
     "data": {
      "text/plain": [
       "3025"
      ]
     },
     "execution_count": 9,
     "metadata": {},
     "output_type": "execute_result"
    }
   ],
   "source": [
    "square_of_sum(10)"
   ]
  },
  {
   "cell_type": "code",
   "execution_count": 13,
   "metadata": {},
   "outputs": [
    {
     "name": "stdout",
     "output_type": "stream",
     "text": [
      "0\t0\t0\t0\n",
      "1\t1\t1\t0\n",
      "2\t5\t9\t4\n",
      "3\t14\t36\t22\n",
      "4\t30\t100\t70\n",
      "5\t55\t225\t170\n",
      "6\t91\t441\t350\n",
      "7\t140\t784\t644\n",
      "8\t204\t1296\t1092\n",
      "9\t285\t2025\t1740\n",
      "10\t385\t3025\t2640\n",
      "11\t506\t4356\t3850\n",
      "12\t650\t6084\t5434\n",
      "13\t819\t8281\t7462\n",
      "14\t1015\t11025\t10010\n"
     ]
    }
   ],
   "source": [
    "for i in range(15):\n",
    "    print(\"{}\\t{}\\t{}\\t{}\".format(i,sum_of_squares(i),square_of_sum(i),square_of_sum(i)-sum_of_squares(i)))"
   ]
  },
  {
   "cell_type": "code",
   "execution_count": 19,
   "metadata": {
    "scrolled": true
   },
   "outputs": [
    {
     "data": {
      "image/png": "[encoded data removed]",
      "text/plain": [
       "<Figure size 432x288 with 1 Axes>"
      ]
     },
     "metadata": {},
     "output_type": "display_data"
    }
   ],
   "source": [
    "for i in range(15):\n",
    "    plt.scatter(i, sum_of_squares(i), marker='o', color='r')\n",
    "    plt.scatter(i, square_of_sum(i), marker='x', color='b')\n",
    "    plt.scatter(i, square_of_sum(i)-sum_of_squares(i), marker='+', color='g')\n",
    "                "
   ]
  },
  {
   "cell_type": "markdown",
   "metadata": {},
   "source": [
    "Many terms will cancel, so we only need to calculate where different digits are combined in the bracket expansion, e.g.\n",
    "\n",
    "(a + b + c)<sup>2</sup> = a<sup>2</sup> + b<sup>2</sup> + c<sup>2</sup> + 2ab + 2bc + 2ca"
   ]
  },
  {
   "cell_type": "code",
   "execution_count": 28,
   "metadata": {},
   "outputs": [],
   "source": [
    "def diff_in_squares(n):\n",
    "    nums = range(1,n+1)\n",
    "    n_sum = 0\n",
    "    for x in nums:\n",
    "        for y in nums:\n",
    "            if x > y:\n",
    "                n_sum += 2*x*y\n",
    "    return n_sum"
   ]
  },
  {
   "cell_type": "code",
   "execution_count": 29,
   "metadata": {},
   "outputs": [
    {
     "name": "stdout",
     "output_type": "stream",
     "text": [
      "1 0\n",
      "2 4\n",
      "3 22\n",
      "4 70\n",
      "5 170\n",
      "6 350\n",
      "7 644\n",
      "8 1092\n",
      "9 1740\n",
      "10 2640\n",
      "11 3850\n",
      "12 5434\n",
      "13 7462\n",
      "14 10010\n"
     ]
    }
   ],
   "source": [
    "for i in range(1,15):\n",
    "    print(i,diff_in_squares(i))"
   ]
  },
  {
   "cell_type": "code",
   "execution_count": 30,
   "metadata": {},
   "outputs": [
    {
     "data": {
      "text/plain": [
       "25164150"
      ]
     },
     "execution_count": 30,
     "metadata": {},
     "output_type": "execute_result"
    }
   ],
   "source": [
    "diff_in_squares(100)"
   ]
  },
  {
   "cell_type": "code",
   "execution_count": null,
   "metadata": {
    "collapsed": true
   },
   "outputs": [],
   "source": []
  }
 ],
 "metadata": {
  "kernelspec": {
   "display_name": "Python 3",
   "language": "python",
   "name": "python3"
  },
  "language_info": {
   "codemirror_mode": {
    "name": "ipython",
    "version": 3
   },
   "file_extension": ".py",
   "mimetype": "text/x-python",
   "name": "python",
   "nbconvert_exporter": "python",
   "pygments_lexer": "ipython3",
   "version": "3.6.1"
  }
 },
 "nbformat": 4,
 "nbformat_minor": 2
}
